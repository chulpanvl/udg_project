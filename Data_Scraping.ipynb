{
 "cells": [
  {
   "cell_type": "code",
   "execution_count": 1,
   "metadata": {},
   "outputs": [],
   "source": [
    "import requests, bs4 \n",
    "import pandas as pd\n",
    "import numpy as np"
   ]
  },
  {
   "cell_type": "markdown",
   "metadata": {},
   "source": [
    "# Scraping Moscow subway stations by district"
   ]
  },
  {
   "cell_type": "code",
   "execution_count": 2,
   "metadata": {},
   "outputs": [],
   "source": [
    "# define url\n",
    "url = 'https://metro.mwmoskva.ru/stancii-spisok/po_rajonam/'"
   ]
  },
  {
   "cell_type": "code",
   "execution_count": 3,
   "metadata": {},
   "outputs": [],
   "source": [
    "# get info from url\n",
    "res = requests.get(url) \n",
    "res.raise_for_status()\n",
    "soup = bs4.BeautifulSoup(res.text)"
   ]
  },
  {
   "cell_type": "code",
   "execution_count": 4,
   "metadata": {},
   "outputs": [],
   "source": [
    "# select the list of stations per district\n",
    "stations = soup.findAll(\"div\", [\"list-name\",\"list-title\"])"
   ]
  },
  {
   "cell_type": "code",
   "execution_count": 5,
   "metadata": {},
   "outputs": [],
   "source": [
    "stations_dict = dict()\n",
    "district = np.NaN\n",
    "for name in stations:\n",
    "    text = name.getText().strip()\n",
    "    #district names have \"в\" or \"на\" before it. We use this for differentiation between subway and district names\n",
    "    if (\"на \" in text) or (\"в \" in text): \n",
    "        district = text        \n",
    "    else:\n",
    "        stations_dict.update({text : district})"
   ]
  },
  {
   "cell_type": "code",
   "execution_count": 6,
   "metadata": {},
   "outputs": [],
   "source": [
    "# convert dictionary to df\n",
    "stations_by_district = pd.DataFrame.from_dict(stations_dict, orient='index')"
   ]
  },
  {
   "cell_type": "code",
   "execution_count": 7,
   "metadata": {},
   "outputs": [],
   "source": [
    "# rename columns\n",
    "stations_by_district.reset_index(inplace=True)\n",
    "stations_by_district.columns = ['stations', 'district']"
   ]
  },
  {
   "cell_type": "code",
   "execution_count": 8,
   "metadata": {},
   "outputs": [],
   "source": [
    "# save to csv\n",
    "stations_by_district.to_csv('stations_by_district.csv', index=False)"
   ]
  },
  {
   "cell_type": "markdown",
   "metadata": {},
   "source": [
    "# Scraping Moscow regions and districts"
   ]
  },
  {
   "cell_type": "code",
   "execution_count": 9,
   "metadata": {},
   "outputs": [],
   "source": [
    "# define url\n",
    "url = 'http://moskva-map.ru/rajony-moscow.htm'"
   ]
  },
  {
   "cell_type": "code",
   "execution_count": 10,
   "metadata": {},
   "outputs": [],
   "source": [
    "# get info from url\n",
    "res = requests.get(url) \n",
    "res.raise_for_status()\n",
    "soup = bs4.BeautifulSoup(res.text)"
   ]
  },
  {
   "cell_type": "code",
   "execution_count": 11,
   "metadata": {},
   "outputs": [],
   "source": [
    "distr_dict = dict()\n",
    "region = np.NaN\n",
    "for name in soup.findAll('a'):\n",
    "    text = name.getText().strip()  \n",
    "    # Names of the regions are 4 letters long at most. \n",
    "    # We use this for differentiation between districts and regions\n",
    "    if len(text) < 5:\n",
    "        region = text        \n",
    "    else:\n",
    "        distr_dict.update({text : region})"
   ]
  },
  {
   "cell_type": "code",
   "execution_count": 12,
   "metadata": {
    "scrolled": false
   },
   "outputs": [],
   "source": [
    "region_district = pd.DataFrame.from_dict(distr_dict, orient='index')"
   ]
  },
  {
   "cell_type": "code",
   "execution_count": 13,
   "metadata": {},
   "outputs": [],
   "source": [
    "# convert dictionary to df\n",
    "region_district.reset_index(inplace=True)\n",
    "region_district.columns = ['stations', 'district']"
   ]
  },
  {
   "cell_type": "code",
   "execution_count": 14,
   "metadata": {},
   "outputs": [],
   "source": [
    "# clean\n",
    "region_district = region_district[:-10]"
   ]
  },
  {
   "cell_type": "code",
   "execution_count": 15,
   "metadata": {},
   "outputs": [],
   "source": [
    "# save to csv\n",
    "region_district.to_csv('region_district.csv', index=False)"
   ]
  },
  {
   "cell_type": "code",
   "execution_count": null,
   "metadata": {},
   "outputs": [],
   "source": []
  }
 ],
 "metadata": {
  "kernelspec": {
   "display_name": "Python 3",
   "language": "python",
   "name": "python3"
  },
  "language_info": {
   "codemirror_mode": {
    "name": "ipython",
    "version": 3
   },
   "file_extension": ".py",
   "mimetype": "text/x-python",
   "name": "python",
   "nbconvert_exporter": "python",
   "pygments_lexer": "ipython3",
   "version": "3.7.7"
  }
 },
 "nbformat": 4,
 "nbformat_minor": 4
}
